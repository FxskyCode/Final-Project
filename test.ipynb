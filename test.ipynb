{
 "cells": [
  {
   "cell_type": "code",
   "execution_count": 1,
   "metadata": {},
   "outputs": [],
   "source": [
    "import os \n",
    "import sqlalchemy\n",
    "import tools.sql_queries as sql"
   ]
  },
  {
   "cell_type": "code",
   "execution_count": 2,
   "metadata": {},
   "outputs": [
    {
     "data": {
      "text/plain": [
       "[{'Company': 'Bytedance',\n",
       "  'Valuation': 140.0,\n",
       "  'Date Joined': '4/7/2017',\n",
       "  'Country': 'China',\n",
       "  'City': 'Beijing',\n",
       "  'Industry': 'Artificial intelligence',\n",
       "  'Select Inverstors': 'Sequoia Capital China, SIG Asia Investments, Sina Weibo, Softbank Group',\n",
       "  'Founded Year': 2012,\n",
       "  'Total Raised': '7.44B',\n",
       "  'Financial Stage': 'IPO',\n",
       "  'Investors Count': 28,\n",
       "  'Deal Terms': 8,\n",
       "  'Portfolio Exits': '5'},\n",
       " {'Company': 'SpaceX',\n",
       "  'Valuation': 100.3,\n",
       "  'Date Joined': '12/1/2012',\n",
       "  'Country': 'United States',\n",
       "  'City': 'Hawthorne',\n",
       "  'Industry': 'Other',\n",
       "  'Select Inverstors': 'Founders Fund, Draper Fisher Jurvetson, Rothenberg Ventures',\n",
       "  'Founded Year': 2002,\n",
       "  'Total Raised': '6.874B',\n",
       "  'Financial Stage': 'None',\n",
       "  'Investors Count': 29,\n",
       "  'Deal Terms': 12,\n",
       "  'Portfolio Exits': 'None'},\n",
       " {'Company': 'Stripe',\n",
       "  'Valuation': 95.0,\n",
       "  'Date Joined': '1/23/2014',\n",
       "  'Country': 'United States',\n",
       "  'City': 'San Francisco',\n",
       "  'Industry': 'Fintech',\n",
       "  'Select Inverstors': 'Khosla Ventures, LowercaseCapital, capitalG',\n",
       "  'Founded Year': 2010,\n",
       "  'Total Raised': '2.901B',\n",
       "  'Financial Stage': 'Asset',\n",
       "  'Investors Count': 39,\n",
       "  'Deal Terms': 12,\n",
       "  'Portfolio Exits': '1'},\n",
       " {'Company': 'Klarna',\n",
       "  'Valuation': 45.6,\n",
       "  'Date Joined': '12/12/2011',\n",
       "  'Country': 'Sweden',\n",
       "  'City': 'Stockholm',\n",
       "  'Industry': 'Fintech',\n",
       "  'Select Inverstors': 'Institutional Venture Partners, Sequoia Capital, General Atlantic',\n",
       "  'Founded Year': 2005,\n",
       "  'Total Raised': '3.472B',\n",
       "  'Financial Stage': 'Acquired',\n",
       "  'Investors Count': 56,\n",
       "  'Deal Terms': 13,\n",
       "  'Portfolio Exits': '1'},\n",
       " {'Company': 'Epic Games',\n",
       "  'Valuation': 42.0,\n",
       "  'Date Joined': '10/26/2018',\n",
       "  'Country': 'United States',\n",
       "  'City': 'Cary',\n",
       "  'Industry': 'Other',\n",
       "  'Select Inverstors': 'Tencent Holdings, KKR, Smash Ventures',\n",
       "  'Founded Year': 1991,\n",
       "  'Total Raised': '4.377B',\n",
       "  'Financial Stage': 'Acquired',\n",
       "  'Investors Count': 25,\n",
       "  'Deal Terms': 5,\n",
       "  'Portfolio Exits': '2'}]"
      ]
     },
     "execution_count": 2,
     "metadata": {},
     "output_type": "execute_result"
    }
   ],
   "source": [
    "sql.get_top_valuation()"
   ]
  },
  {
   "cell_type": "code",
   "execution_count": null,
   "metadata": {},
   "outputs": [],
   "source": []
  }
 ],
 "metadata": {
  "kernelspec": {
   "display_name": "Python 3.10.6 ('ironhack')",
   "language": "python",
   "name": "python3"
  },
  "language_info": {
   "codemirror_mode": {
    "name": "ipython",
    "version": 3
   },
   "file_extension": ".py",
   "mimetype": "text/x-python",
   "name": "python",
   "nbconvert_exporter": "python",
   "pygments_lexer": "ipython3",
   "version": "3.10.6"
  },
  "orig_nbformat": 4,
  "vscode": {
   "interpreter": {
    "hash": "6d395dc2ed2cdf1807dccc7018730f28077b06a630c2c1d12a8e23fabe899a09"
   }
  }
 },
 "nbformat": 4,
 "nbformat_minor": 2
}
